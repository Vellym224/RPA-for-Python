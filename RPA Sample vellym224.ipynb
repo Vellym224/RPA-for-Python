{
 "cells": [
  {
   "cell_type": "code",
   "execution_count": 1,
   "id": "23725c14",
   "metadata": {},
   "outputs": [],
   "source": [
    "import rpa as r"
   ]
  },
  {
   "cell_type": "code",
   "execution_count": 2,
   "id": "5948dcd3",
   "metadata": {},
   "outputs": [],
   "source": [
    "import pandas as pd"
   ]
  },
  {
   "cell_type": "code",
   "execution_count": 3,
   "id": "9e0951a7",
   "metadata": {},
   "outputs": [
    {
     "data": {
      "text/plain": [
       "True"
      ]
     },
     "execution_count": 3,
     "metadata": {},
     "output_type": "execute_result"
    }
   ],
   "source": [
    "r.init(visual_automation = True, chrome_browser = True)"
   ]
  },
  {
   "cell_type": "code",
   "execution_count": 4,
   "id": "8bcc30a1",
   "metadata": {},
   "outputs": [
    {
     "data": {
      "text/plain": [
       "True"
      ]
     },
     "execution_count": 4,
     "metadata": {},
     "output_type": "execute_result"
    }
   ],
   "source": [
    "r.url('https://gcwensa.co.za')"
   ]
  },
  {
   "cell_type": "code",
   "execution_count": 5,
   "id": "36941cd2",
   "metadata": {},
   "outputs": [
    {
     "data": {
      "text/plain": [
       "True"
      ]
     },
     "execution_count": 5,
     "metadata": {},
     "output_type": "execute_result"
    }
   ],
   "source": [
    "r.wait(6)"
   ]
  },
  {
   "cell_type": "code",
   "execution_count": 6,
   "id": "0df20f81",
   "metadata": {},
   "outputs": [
    {
     "data": {
      "text/plain": [
       "True"
      ]
     },
     "execution_count": 6,
     "metadata": {},
     "output_type": "execute_result"
    }
   ],
   "source": [
    "r.url('https://gcwensa.co.za/login/')"
   ]
  },
  {
   "cell_type": "code",
   "execution_count": 7,
   "id": "349a4eaf",
   "metadata": {},
   "outputs": [
    {
     "data": {
      "text/plain": [
       "True"
      ]
     },
     "execution_count": 7,
     "metadata": {},
     "output_type": "execute_result"
    }
   ],
   "source": [
    "r.type('#input_0', 'ronaldo.minyuku@gcwensa.co.za')"
   ]
  },
  {
   "cell_type": "code",
   "execution_count": 8,
   "id": "c1093d12",
   "metadata": {},
   "outputs": [
    {
     "data": {
      "text/plain": [
       "True"
      ]
     },
     "execution_count": 8,
     "metadata": {},
     "output_type": "execute_result"
    }
   ],
   "source": [
    "r.type('#input_1', 'soulsessions')"
   ]
  },
  {
   "cell_type": "code",
   "execution_count": 9,
   "id": "2cdc63c4",
   "metadata": {},
   "outputs": [
    {
     "data": {
      "text/plain": [
       "True"
      ]
     },
     "execution_count": 9,
     "metadata": {},
     "output_type": "execute_result"
    }
   ],
   "source": [
    "r.click ('LOGIN')"
   ]
  },
  {
   "cell_type": "code",
   "execution_count": 10,
   "id": "1d170774",
   "metadata": {},
   "outputs": [
    {
     "data": {
      "text/plain": [
       "True"
      ]
     },
     "execution_count": 10,
     "metadata": {},
     "output_type": "execute_result"
    }
   ],
   "source": [
    "r.wait()"
   ]
  },
  {
   "cell_type": "code",
   "execution_count": 11,
   "id": "67868e9d",
   "metadata": {},
   "outputs": [
    {
     "data": {
      "text/plain": [
       "True"
      ]
     },
     "execution_count": 11,
     "metadata": {},
     "output_type": "execute_result"
    }
   ],
   "source": [
    "r.click('Contact Us')"
   ]
  },
  {
   "cell_type": "code",
   "execution_count": 12,
   "id": "8d5ddc24",
   "metadata": {},
   "outputs": [
    {
     "data": {
      "text/plain": [
       "True"
      ]
     },
     "execution_count": 12,
     "metadata": {},
     "output_type": "execute_result"
    }
   ],
   "source": [
    "r.click(\"//a[@class='full-link magnific-popup']\")"
   ]
  },
  {
   "cell_type": "code",
   "execution_count": 13,
   "id": "f1d14037",
   "metadata": {},
   "outputs": [
    {
     "data": {
      "text/plain": [
       "True"
      ]
     },
     "execution_count": 13,
     "metadata": {},
     "output_type": "execute_result"
    }
   ],
   "source": [
    "r.wait(15)"
   ]
  },
  {
   "cell_type": "code",
   "execution_count": 14,
   "id": "b6c7e1e5",
   "metadata": {},
   "outputs": [
    {
     "data": {
      "text/plain": [
       "True"
      ]
     },
     "execution_count": 14,
     "metadata": {},
     "output_type": "execute_result"
    }
   ],
   "source": [
    "r.close()"
   ]
  },
  {
   "cell_type": "code",
   "execution_count": 15,
   "id": "2ad40a74",
   "metadata": {},
   "outputs": [
    {
     "data": {
      "text/plain": [
       "True"
      ]
     },
     "execution_count": 15,
     "metadata": {},
     "output_type": "execute_result"
    }
   ],
   "source": [
    "r.init(visual_automation = True, chrome_browser = True)"
   ]
  },
  {
   "cell_type": "code",
   "execution_count": 16,
   "id": "44693278",
   "metadata": {},
   "outputs": [
    {
     "data": {
      "text/plain": [
       "True"
      ]
     },
     "execution_count": 16,
     "metadata": {},
     "output_type": "execute_result"
    }
   ],
   "source": [
    "r.url('https://gcwensa.co.za')"
   ]
  },
  {
   "cell_type": "code",
   "execution_count": 17,
   "id": "866133ed",
   "metadata": {},
   "outputs": [
    {
     "data": {
      "text/plain": [
       "True"
      ]
     },
     "execution_count": 17,
     "metadata": {},
     "output_type": "execute_result"
    }
   ],
   "source": [
    "r.click ('Team')"
   ]
  },
  {
   "cell_type": "code",
   "execution_count": 18,
   "id": "877d43c6",
   "metadata": {},
   "outputs": [
    {
     "data": {
      "text/plain": [
       "True"
      ]
     },
     "execution_count": 18,
     "metadata": {},
     "output_type": "execute_result"
    }
   ],
   "source": [
    "r.wait(7)"
   ]
  },
  {
   "cell_type": "code",
   "execution_count": 19,
   "id": "9c3d78b6",
   "metadata": {},
   "outputs": [],
   "source": [
    "writer = pd.ExcelWriter('ronaldoreport.xlsx', engine='xlsxwriter')"
   ]
  },
  {
   "cell_type": "code",
   "execution_count": 20,
   "id": "a0382cda",
   "metadata": {},
   "outputs": [],
   "source": [
    "writer.save()"
   ]
  },
  {
   "cell_type": "code",
   "execution_count": 21,
   "id": "ee06d5a7",
   "metadata": {},
   "outputs": [],
   "source": [
    "df = pd.DataFrame({' EMP-Name': ['Sifiso Ndimande', 'Mark Ketcher', 'Timarah Abrahams', 'Abhishek Gupta', 'Kgomotso Kutumela', 'Trusty Ndimande'],\n",
    "                   'Position': ['CEO', 'COO', 'Health and Safety Manager', 'Business Development & Strategy Executive – Africa', 'Project Manager','Head of Marketing']})"
   ]
  },
  {
   "cell_type": "code",
   "execution_count": 22,
   "id": "e22299cb",
   "metadata": {},
   "outputs": [],
   "source": [
    "writer = pd.ExcelWriter('ronaldoreport.xlsx', engine='xlsxwriter')"
   ]
  },
  {
   "cell_type": "code",
   "execution_count": 23,
   "id": "a17b6aeb",
   "metadata": {},
   "outputs": [],
   "source": [
    "df.to_excel(writer, sheet_name='Sheet1', index=False)"
   ]
  },
  {
   "cell_type": "code",
   "execution_count": 24,
   "id": "23825a02",
   "metadata": {},
   "outputs": [],
   "source": [
    "writer.save()"
   ]
  },
  {
   "cell_type": "code",
   "execution_count": 25,
   "id": "b532d119",
   "metadata": {},
   "outputs": [
    {
     "data": {
      "text/plain": [
       "True"
      ]
     },
     "execution_count": 25,
     "metadata": {},
     "output_type": "execute_result"
    }
   ],
   "source": [
    "r.wait(8)"
   ]
  },
  {
   "cell_type": "code",
   "execution_count": 26,
   "id": "fda23a51",
   "metadata": {},
   "outputs": [
    {
     "data": {
      "text/plain": [
       "True"
      ]
     },
     "execution_count": 26,
     "metadata": {},
     "output_type": "execute_result"
    }
   ],
   "source": [
    "r.close()"
   ]
  }
 ],
 "metadata": {
  "kernelspec": {
   "display_name": "Python 3 (ipykernel)",
   "language": "python",
   "name": "python3"
  },
  "language_info": {
   "codemirror_mode": {
    "name": "ipython",
    "version": 3
   },
   "file_extension": ".py",
   "mimetype": "text/x-python",
   "name": "python",
   "nbconvert_exporter": "python",
   "pygments_lexer": "ipython3",
   "version": "3.9.12"
  }
 },
 "nbformat": 4,
 "nbformat_minor": 5
}
